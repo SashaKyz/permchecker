{
 "cells": [
  {
   "cell_type": "code",
   "execution_count": 95,
   "metadata": {},
   "outputs": [],
   "source": [
    "import openpyxl\n",
    "import statistics as stats\n",
    "\n",
    "book = openpyxl.load_workbook('PERM_Disclosure_Data_FY2019.xlsx', data_only=True)\n",
    "\n",
    "sheet = book.active\n",
    "\n",
    "rows = sheet.rows\n"
   ]
  },
  {
   "cell_type": "code",
   "execution_count": 96,
   "metadata": {},
   "outputs": [
    {
     "name": "stdout",
     "output_type": "stream",
     "text": [
      "New max process data: 2018-08-27 00:00:00\n",
      "New max process data: 2018-08-29 00:00:00\n",
      "New max process data: 2018-08-30 00:00:00\n",
      "New max process data: 2018-08-31 00:00:00\n",
      "New max process data: 2018-09-04 00:00:00\n",
      "New max process data: 2018-09-27 00:00:00\n",
      "New max process data: 2018-09-28 00:00:00\n",
      "New max process data: 2018-09-30 00:00:00\n",
      "New max process data: 2018-10-26 00:00:00\n",
      "New max process data: 2018-10-31 00:00:00\n",
      " Month: 10/2018 CaseStatus: \"Certified\" items: 6700 \n",
      " Month: 10/2018 CaseStatus: \"Withdrawn\" items: 262 \n",
      " Month: 10/2018 CaseStatus: \"Denied\" items: 415 \n",
      " Month: 10/2018 CaseStatus: \"Certified-Expired\" items: 1 \n",
      "xxxxxxxxxxxxxxxxxxxxxxxxxxxxxxxxxxxxxxxxxxxxxxxxxx\n",
      " Month: 11/2018 CaseStatus: \"Certified\" items: 5895 \n",
      " Month: 11/2018 CaseStatus: \"Withdrawn\" items: 227 \n",
      " Month: 11/2018 CaseStatus: \"Denied\" items: 347 \n",
      " Month: 11/2018 CaseStatus: \"Certified-Expired\" items: 1 \n",
      "xxxxxxxxxxxxxxxxxxxxxxxxxxxxxxxxxxxxxxxxxxxxxxxxxx\n",
      " Month: 12/2018 CaseStatus: \"Certified\" items: 3157 \n",
      " Month: 12/2018 CaseStatus: \"Withdrawn\" items: 394 \n",
      " Month: 12/2018 CaseStatus: \"Denied\" items: 481 \n",
      " Month: 12/2018 CaseStatus: \"Certified-Expired\" items: 1 \n",
      "xxxxxxxxxxxxxxxxxxxxxxxxxxxxxxxxxxxxxxxxxxxxxxxxxx\n",
      "Total items: 17881\n",
      "Last processed date: 2018-10-31 00:00:00\n"
     ]
    }
   ],
   "source": [
    "values = []\n",
    "\n",
    "cova = {}\n",
    "mdata = datetime(2000, 1, 1)\n",
    "\n",
    "for row in rows:\n",
    "    if (row[0].value == 'CASE_NUMBER'):\n",
    "        continue\n",
    "    datetime_object = datetime.strptime(row[1].value, '%m/%d/%Y').strftime('%m/%Y')\n",
    "    # check maxprocess data \n",
    "    if (mdata < row[3].value) and (row[2].value==\"Certified\") :\n",
    "        mdata = row[3].value\n",
    "        print(\"New max process data: {0}\".format(mdata))\n",
    "        \n",
    "    if cova.get(datetime_object):\n",
    "        cova[datetime_object][row[2].value]+=1\n",
    "    else:\n",
    "        cova[datetime_object]=dict({\"Certified\":0,\"Withdrawn\":0,\"Denied\":0,\"Certified-Expired\":0})\n",
    "        cova[datetime_object][row[2].value]=1\n",
    "\n",
    "totalitems=0\n",
    "for key in cova:\n",
    "    for typo in cova[key]:\n",
    "        print(\" Month: {0} CaseStatus: \\\"{1}\\\" items: {2} \".format(key,typo,cova[key][typo]))\n",
    "        totalitems+=cova[key][typo]\n",
    "    print (\"x\"*50)\n",
    "    \n",
    "print(\"Total items: {0}\".format(totalitems))\n",
    "print(\"Last processed date: {0}\".format(mdata))"
   ]
  },
  {
   "cell_type": "code",
   "execution_count": null,
   "metadata": {},
   "outputs": [],
   "source": []
  }
 ],
 "metadata": {
  "kernelspec": {
   "display_name": "Python 3",
   "language": "python",
   "name": "python3"
  },
  "language_info": {
   "codemirror_mode": {
    "name": "ipython",
    "version": 3
   },
   "file_extension": ".py",
   "mimetype": "text/x-python",
   "name": "python",
   "nbconvert_exporter": "python",
   "pygments_lexer": "ipython3",
   "version": "3.6.8"
  }
 },
 "nbformat": 4,
 "nbformat_minor": 2
}
